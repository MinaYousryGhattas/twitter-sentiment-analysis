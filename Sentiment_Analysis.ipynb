{
 "cells": [
  {
   "cell_type": "code",
   "execution_count": 1,
   "metadata": {},
   "outputs": [],
   "source": [
    "from data_preparation import data_preparation\n",
    "import numpy as np\n",
    "from sklearn.model_selection import train_test_split\n",
    "\n"
   ]
  },
  {
   "cell_type": "code",
   "execution_count": 2,
   "metadata": {},
   "outputs": [
    {
     "name": "stdout",
     "output_type": "stream",
     "text": [
      "24999"
     ]
    }
   ],
   "source": [
    "data = data_preparation('reviews_2.txt','labels.txt')\n"
   ]
  },
  {
   "cell_type": "code",
   "execution_count": 4,
   "metadata": {},
   "outputs": [
    {
     "name": "stdout",
     "output_type": "stream",
     "text": [
      "Review: 1199"
     ]
    }
   ],
   "source": [
    "input_data = data.get_input_data(to=1200)\n",
    "target_data = data.get_output_data(to=1200)"
   ]
  },
  {
   "cell_type": "code",
   "execution_count": 5,
   "metadata": {},
   "outputs": [],
   "source": [
    "train_data, test_data, train_target, test_target = train_test_split(input_data, target_data,test_size=0.4)\n",
    "valid_data, test_data, valid_target, test_target = train_test_split(test_data,  test_target,test_size=0.5)"
   ]
  },
  {
   "cell_type": "code",
   "execution_count": 15,
   "metadata": {},
   "outputs": [
    {
     "ename": "AttributeError",
     "evalue": "'list' object has no attribute 'shape'",
     "output_type": "error",
     "traceback": [
      "\u001b[1;31m---------------------------------------------------------------------------\u001b[0m",
      "\u001b[1;31mAttributeError\u001b[0m                            Traceback (most recent call last)",
      "\u001b[1;32m<ipython-input-15-70e68c08cd7a>\u001b[0m in \u001b[0;36m<module>\u001b[1;34m\u001b[0m\n\u001b[1;32m----> 1\u001b[1;33m \u001b[0mprint\u001b[0m\u001b[1;33m(\u001b[0m\u001b[0mtrain_data\u001b[0m\u001b[1;33m.\u001b[0m\u001b[0mshape\u001b[0m\u001b[1;33m,\u001b[0m \u001b[0mtrain_target\u001b[0m\u001b[1;33m.\u001b[0m\u001b[0mshape\u001b[0m\u001b[1;33m)\u001b[0m\u001b[1;33m\u001b[0m\u001b[1;33m\u001b[0m\u001b[0m\n\u001b[0m",
      "\u001b[1;31mAttributeError\u001b[0m: 'list' object has no attribute 'shape'"
     ]
    }
   ],
   "source": []
  },
  {
   "cell_type": "code",
   "execution_count": 6,
   "metadata": {},
   "outputs": [
    {
     "name": "stderr",
     "output_type": "stream",
     "text": [
      "Using TensorFlow backend.\n"
     ]
    },
    {
     "name": "stdout",
     "output_type": "stream",
     "text": [
      "_________________________________________________________________\n",
      "Layer (type)                 Output Shape              Param #   \n",
      "=================================================================\n",
      "dense_1 (Dense)              (None, 10)                740740    \n",
      "_________________________________________________________________\n",
      "dense_2 (Dense)              (None, 2)                 22        \n",
      "=================================================================\n",
      "Total params: 740,762\n",
      "Trainable params: 740,762\n",
      "Non-trainable params: 0\n",
      "_________________________________________________________________\n"
     ]
    }
   ],
   "source": [
    "from keras.layers import Dropout, Flatten, Dense\n",
    "from keras.models import Sequential\n",
    "import keras\n",
    "\n",
    "model = Sequential()\n",
    "\n",
    "### TODO: Define your architecture.-\n",
    "model.add(Dense(10,activation='relu',input_shape=input_data[0].shape))\n",
    "model.add(Dense(2,activation='softmax'))\n",
    "\n",
    "model.summary()\n",
    "opt = keras.optimizers.RMSprop()\n",
    "model.compile(optimizer=opt, loss='categorical_crossentropy', metrics=['accuracy'])\n"
   ]
  },
  {
   "cell_type": "code",
   "execution_count": 7,
   "metadata": {},
   "outputs": [
    {
     "name": "stdout",
     "output_type": "stream",
     "text": [
      "Train on 720 samples, validate on 240 samples\n",
      "Epoch 1/10\n",
      "720/720 [==============================] - 2s 3ms/step - loss: 0.6352 - acc: 0.7403 - val_loss: 0.5718 - val_acc: 0.8250\n",
      "\n",
      "Epoch 00001: val_loss improved from inf to 0.57177, saving model to weights.best.from_scratch.hdf5\n",
      "Epoch 2/10\n",
      "720/720 [==============================] - 2s 2ms/step - loss: 0.4168 - acc: 0.9583 - val_loss: 0.4406 - val_acc: 0.8750\n",
      "\n",
      "Epoch 00002: val_loss improved from 0.57177 to 0.44063, saving model to weights.best.from_scratch.hdf5\n",
      "Epoch 3/10\n",
      "720/720 [==============================] - 2s 2ms/step - loss: 0.2336 - acc: 0.9806 - val_loss: 0.3559 - val_acc: 0.8833\n",
      "\n",
      "Epoch 00003: val_loss improved from 0.44063 to 0.35594, saving model to weights.best.from_scratch.hdf5\n",
      "Epoch 4/10\n",
      "720/720 [==============================] - 2s 2ms/step - loss: 0.1222 - acc: 0.9958 - val_loss: 0.3061 - val_acc: 0.9000\n",
      "\n",
      "Epoch 00004: val_loss improved from 0.35594 to 0.30607, saving model to weights.best.from_scratch.hdf5\n",
      "Epoch 5/10\n",
      "720/720 [==============================] - 2s 2ms/step - loss: 0.0634 - acc: 1.0000 - val_loss: 0.2723 - val_acc: 0.9000\n",
      "\n",
      "Epoch 00005: val_loss improved from 0.30607 to 0.27232, saving model to weights.best.from_scratch.hdf5\n",
      "Epoch 6/10\n",
      "720/720 [==============================] - 2s 2ms/step - loss: 0.0321 - acc: 1.0000 - val_loss: 0.2580 - val_acc: 0.8917\n",
      "\n",
      "Epoch 00006: val_loss improved from 0.27232 to 0.25803, saving model to weights.best.from_scratch.hdf5\n",
      "Epoch 7/10\n",
      "720/720 [==============================] - 2s 2ms/step - loss: 0.0157 - acc: 1.0000 - val_loss: 0.2729 - val_acc: 0.8833\n",
      "\n",
      "Epoch 00007: val_loss did not improve from 0.25803\n",
      "Epoch 8/10\n",
      "720/720 [==============================] - 2s 2ms/step - loss: 0.0075 - acc: 1.0000 - val_loss: 0.2497 - val_acc: 0.8875\n",
      "\n",
      "Epoch 00008: val_loss improved from 0.25803 to 0.24965, saving model to weights.best.from_scratch.hdf5\n",
      "Epoch 9/10\n",
      "720/720 [==============================] - 2s 2ms/step - loss: 0.0036 - acc: 1.0000 - val_loss: 0.2646 - val_acc: 0.9000\n",
      "\n",
      "Epoch 00009: val_loss did not improve from 0.24965\n",
      "Epoch 10/10\n",
      "720/720 [==============================] - 2s 2ms/step - loss: 0.0017 - acc: 1.0000 - val_loss: 0.2752 - val_acc: 0.9042\n",
      "\n",
      "Epoch 00010: val_loss did not improve from 0.24965\n"
     ]
    },
    {
     "data": {
      "text/plain": [
       "<keras.callbacks.History at 0x1580c887b70>"
      ]
     },
     "execution_count": 7,
     "metadata": {},
     "output_type": "execute_result"
    }
   ],
   "source": [
    "from keras.callbacks import ModelCheckpoint  \n",
    "\n",
    "### TODO: specify the number of epochs that you would like to use to train the model.\n",
    "\n",
    "epochs = 10\n",
    "\n",
    "### Do NOT modify the code below this line.\n",
    "\n",
    "checkpointer = ModelCheckpoint(filepath='weights.best.from_scratch.hdf5', \n",
    "                               verbose=1, save_best_only=True)\n",
    "\n",
    "model.fit(train_data, train_target, \n",
    "          validation_data=(valid_data, valid_target),\n",
    "          epochs=epochs, batch_size=20, callbacks=[checkpointer], verbose=1)"
   ]
  },
  {
   "cell_type": "code",
   "execution_count": 8,
   "metadata": {},
   "outputs": [
    {
     "name": "stdout",
     "output_type": "stream",
     "text": [
      "240/240 [==============================] - 0s 1ms/step\n"
     ]
    },
    {
     "data": {
      "text/plain": [
       "[0.2752354880174001, 0.8916666666666667]"
      ]
     },
     "execution_count": 8,
     "metadata": {},
     "output_type": "execute_result"
    }
   ],
   "source": [
    "model.evaluate(test_data,test_target)"
   ]
  },
  {
   "cell_type": "code",
   "execution_count": 9,
   "metadata": {},
   "outputs": [
    {
     "data": {
      "text/plain": [
       "'bromwell high is a cartoon comedy  it ran at the same time as some other programs about school life  such as  teachers   my   years in the teaching profession lead me to believe that bromwell high  s satire is much closer to reality than is  teachers   the scramble to survive financially  the insightful students who can see right through their pathetic teachers  pomp  the pettiness of the whole situation  all remind me of the schools i knew and their students  when i saw the episode in which a student repeatedly tried to burn down the school  i immediately recalled          at           high  a classic line inspector i  m here to sack one of your teachers  student welcome to bromwell high  i expect that many adults of my age think that bromwell high is far fetched  what a pity that it isn  t   '"
      ]
     },
     "execution_count": 9,
     "metadata": {},
     "output_type": "execute_result"
    }
   ],
   "source": [
    "data.reviews[0]"
   ]
  },
  {
   "cell_type": "code",
   "execution_count": 10,
   "metadata": {},
   "outputs": [
    {
     "data": {
      "text/plain": [
       "'positive'"
      ]
     },
     "execution_count": 10,
     "metadata": {},
     "output_type": "execute_result"
    }
   ],
   "source": [
    "data.labels[0]"
   ]
  },
  {
   "cell_type": "code",
   "execution_count": 23,
   "metadata": {},
   "outputs": [],
   "source": [
    "def predict(train_data):\n",
    "    out = model.predict(train_data.reshape(1,74073))\n",
    "    print(out[0])\n",
    "    if (out[0][0] > out[0][1]):\n",
    "        print('POSITIVE')\n",
    "    else:\n",
    "        print('NEGITIVE')\n",
    "\n",
    "        \n",
    "    "
   ]
  },
  {
   "cell_type": "code",
   "execution_count": 16,
   "metadata": {},
   "outputs": [
    {
     "name": "stdout",
     "output_type": "stream",
     "text": [
      "(74073,)\n"
     ]
    }
   ],
   "source": [
    "print(train_data[0].reshape())"
   ]
  },
  {
   "cell_type": "code",
   "execution_count": 24,
   "metadata": {},
   "outputs": [
    {
     "name": "stdout",
     "output_type": "stream",
     "text": [
      "[0.5619711  0.43802884]\n",
      "POSITIVE\n"
     ]
    }
   ],
   "source": [
    "predict(input_data[0])"
   ]
  },
  {
   "cell_type": "code",
   "execution_count": 31,
   "metadata": {},
   "outputs": [
    {
     "name": "stdout",
     "output_type": "stream",
     "text": [
      "0.05902269426102881 0.225153602242234 1.7091514458966952 -1.0948599390495592\n"
     ]
    }
   ],
   "source": [
    "print(data.word_ratio['the'],data.word_ratio['play'],data.word_ratio['superb'],data.word_ratio['ugly'])"
   ]
  },
  {
   "cell_type": "code",
   "execution_count": null,
   "metadata": {},
   "outputs": [],
   "source": []
  }
 ],
 "metadata": {
  "kernelspec": {
   "display_name": "Python 3",
   "language": "python",
   "name": "python3"
  },
  "language_info": {
   "codemirror_mode": {
    "name": "ipython",
    "version": 3
   },
   "file_extension": ".py",
   "mimetype": "text/x-python",
   "name": "python",
   "nbconvert_exporter": "python",
   "pygments_lexer": "ipython3",
   "version": "3.6.7"
  }
 },
 "nbformat": 4,
 "nbformat_minor": 2
}
